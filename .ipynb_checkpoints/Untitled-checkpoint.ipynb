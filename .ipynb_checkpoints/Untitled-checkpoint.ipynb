{
 "cells": [
  {
   "cell_type": "code",
   "execution_count": 5,
   "metadata": {},
   "outputs": [],
   "source": [
    "import pandas as pd"
   ]
  },
  {
   "cell_type": "code",
   "execution_count": 6,
   "metadata": {},
   "outputs": [
    {
     "ename": "SyntaxError",
     "evalue": "invalid character in identifier (<ipython-input-6-e82222398d0e>, line 3)",
     "output_type": "error",
     "traceback": [
      "\u001b[0;36m  File \u001b[0;32m\"<ipython-input-6-e82222398d0e>\"\u001b[0;36m, line \u001b[0;32m3\u001b[0m\n\u001b[0;31m    输出需求：\u001b[0m\n\u001b[0m        ^\u001b[0m\n\u001b[0;31mSyntaxError\u001b[0m\u001b[0;31m:\u001b[0m invalid character in identifier\n"
     ]
    }
   ],
   "source": [
    "df2=pd.DataFrame({'appid':[60,48,60,48],'type':['screen','screen','profile','profile'],'punish':[3,13,1,0],'total_cnt':[8,33,2,75]})\n",
    "# %%\n",
    "\n",
    "{'48':{'screen':{'punish':13,'total_cnt':33},'profile':{'punish':0,'total_cnt':75}},\n",
    " '60':{'screen':{'punish':3,'total_cnt':8},'profile':{'punish':1,'total_cnt':2}}}\n"
   ]
  },
  {
   "cell_type": "code",
   "execution_count": 15,
   "metadata": {},
   "outputs": [
    {
     "data": {
      "text/plain": [
       "4"
      ]
     },
     "execution_count": 15,
     "metadata": {},
     "output_type": "execute_result"
    }
   ],
   "source": []
  },
  {
   "cell_type": "code",
   "execution_count": 9,
   "metadata": {},
   "outputs": [],
   "source": [
    "df2=pd.DataFrame({'appid':[60,48,60,48],'type':['screen','screen','profile','profile'],'punish':[3,13,1,0],'total_cnt':[8,33,2,75]})"
   ]
  },
  {
   "cell_type": "code",
   "execution_count": 10,
   "metadata": {},
   "outputs": [
    {
     "data": {
      "text/html": [
       "<div>\n",
       "<style scoped>\n",
       "    .dataframe tbody tr th:only-of-type {\n",
       "        vertical-align: middle;\n",
       "    }\n",
       "\n",
       "    .dataframe tbody tr th {\n",
       "        vertical-align: top;\n",
       "    }\n",
       "\n",
       "    .dataframe thead th {\n",
       "        text-align: right;\n",
       "    }\n",
       "</style>\n",
       "<table border=\"1\" class=\"dataframe\">\n",
       "  <thead>\n",
       "    <tr style=\"text-align: right;\">\n",
       "      <th></th>\n",
       "      <th>appid</th>\n",
       "      <th>type</th>\n",
       "      <th>punish</th>\n",
       "      <th>total_cnt</th>\n",
       "    </tr>\n",
       "  </thead>\n",
       "  <tbody>\n",
       "    <tr>\n",
       "      <th>0</th>\n",
       "      <td>60</td>\n",
       "      <td>screen</td>\n",
       "      <td>3</td>\n",
       "      <td>8</td>\n",
       "    </tr>\n",
       "    <tr>\n",
       "      <th>1</th>\n",
       "      <td>48</td>\n",
       "      <td>screen</td>\n",
       "      <td>13</td>\n",
       "      <td>33</td>\n",
       "    </tr>\n",
       "    <tr>\n",
       "      <th>2</th>\n",
       "      <td>60</td>\n",
       "      <td>profile</td>\n",
       "      <td>1</td>\n",
       "      <td>2</td>\n",
       "    </tr>\n",
       "    <tr>\n",
       "      <th>3</th>\n",
       "      <td>48</td>\n",
       "      <td>profile</td>\n",
       "      <td>0</td>\n",
       "      <td>75</td>\n",
       "    </tr>\n",
       "  </tbody>\n",
       "</table>\n",
       "</div>"
      ],
      "text/plain": [
       "   appid     type  punish  total_cnt\n",
       "0     60   screen       3          8\n",
       "1     48   screen      13         33\n",
       "2     60  profile       1          2\n",
       "3     48  profile       0         75"
      ]
     },
     "execution_count": 10,
     "metadata": {},
     "output_type": "execute_result"
    }
   ],
   "source": [
    "df2"
   ]
  },
  {
   "cell_type": "code",
   "execution_count": 13,
   "metadata": {},
   "outputs": [
    {
     "data": {
      "text/html": [
       "<div>\n",
       "<style scoped>\n",
       "    .dataframe tbody tr th:only-of-type {\n",
       "        vertical-align: middle;\n",
       "    }\n",
       "\n",
       "    .dataframe tbody tr th {\n",
       "        vertical-align: top;\n",
       "    }\n",
       "\n",
       "    .dataframe thead th {\n",
       "        text-align: right;\n",
       "    }\n",
       "</style>\n",
       "<table border=\"1\" class=\"dataframe\">\n",
       "  <thead>\n",
       "    <tr style=\"text-align: right;\">\n",
       "      <th></th>\n",
       "      <th>48</th>\n",
       "      <th>60</th>\n",
       "    </tr>\n",
       "  </thead>\n",
       "  <tbody>\n",
       "    <tr>\n",
       "      <th>screen</th>\n",
       "      <td>{'punish': 13, 'total_cnt': 33}</td>\n",
       "      <td>{'punish': 3, 'total_cnt': 8}</td>\n",
       "    </tr>\n",
       "    <tr>\n",
       "      <th>profile</th>\n",
       "      <td>{'punish': 0, 'total_cnt': 75}</td>\n",
       "      <td>{'punish': 1, 'total_cnt': 2}</td>\n",
       "    </tr>\n",
       "  </tbody>\n",
       "</table>\n",
       "</div>"
      ],
      "text/plain": [
       "                                      48                             60\n",
       "screen   {'punish': 13, 'total_cnt': 33}  {'punish': 3, 'total_cnt': 8}\n",
       "profile   {'punish': 0, 'total_cnt': 75}  {'punish': 1, 'total_cnt': 2}"
      ]
     },
     "execution_count": 13,
     "metadata": {},
     "output_type": "execute_result"
    }
   ],
   "source": [
    "ans = pd.DataFrame({'48':{'screen':{'punish':13,'total_cnt':33},'profile':{'punish':0,'total_cnt':75}},\n",
    " '60':{'screen':{'punish':3,'total_cnt':8},'profile':{'punish':1,'total_cnt':2}}})\n",
    "ans"
   ]
  },
  {
   "cell_type": "code",
   "execution_count": 20,
   "metadata": {},
   "outputs": [
    {
     "data": {
      "text/html": [
       "<div>\n",
       "<style scoped>\n",
       "    .dataframe tbody tr th:only-of-type {\n",
       "        vertical-align: middle;\n",
       "    }\n",
       "\n",
       "    .dataframe tbody tr th {\n",
       "        vertical-align: top;\n",
       "    }\n",
       "\n",
       "    .dataframe thead th {\n",
       "        text-align: right;\n",
       "    }\n",
       "</style>\n",
       "<table border=\"1\" class=\"dataframe\">\n",
       "  <thead>\n",
       "    <tr style=\"text-align: right;\">\n",
       "      <th></th>\n",
       "      <th>60</th>\n",
       "      <th>48</th>\n",
       "    </tr>\n",
       "  </thead>\n",
       "  <tbody>\n",
       "    <tr>\n",
       "      <th>screen</th>\n",
       "      <td>{'punish': 3, 'total_cnt': 8}</td>\n",
       "      <td>{'punish': 13, 'total_cnt': 33}</td>\n",
       "    </tr>\n",
       "    <tr>\n",
       "      <th>profile</th>\n",
       "      <td>{'punish': 1, 'total_cnt': 2}</td>\n",
       "      <td>{'punish': 0, 'total_cnt': 75}</td>\n",
       "    </tr>\n",
       "  </tbody>\n",
       "</table>\n",
       "</div>"
      ],
      "text/plain": [
       "                                    60                               48\n",
       "screen   {'punish': 3, 'total_cnt': 8}  {'punish': 13, 'total_cnt': 33}\n",
       "profile  {'punish': 1, 'total_cnt': 2}   {'punish': 0, 'total_cnt': 75}"
      ]
     },
     "execution_count": 20,
     "metadata": {},
     "output_type": "execute_result"
    }
   ],
   "source": [
    "output_dict = {}\n",
    "\n",
    "for idx in range(len(df2)):\n",
    "    _app, _type, _punish, _total_cnt = df2['appid'][idx], df2['type'][idx],df2['punish'][idx],df2['total_cnt'][idx],\n",
    "    if _app not in output_dict:\n",
    "        output_dict[_app] = {}\n",
    "        output_dict[_app][_type] = {'punish':_punish, 'total_cnt':_total_cnt}\n",
    "    else:\n",
    "        if _type not in output_dict[_app]:\n",
    "            output_dict[_app][_type] = {'punish':_punish, 'total_cnt':_total_cnt}\n",
    "        else:\n",
    "            output_dict[_app][_type]['punish'] = output_dict[_app][_type]['punish']+_punish\n",
    "            output_dict[_app][_type]['total_cnt'] = output_dict[_app][_type]['total_cnt']+_total_cnt\n",
    "\n",
    "# print(output_dict)\n",
    "out = pd.DataFrame(output_dict)\n",
    "out"
   ]
  },
  {
   "cell_type": "code",
   "execution_count": null,
   "metadata": {},
   "outputs": [],
   "source": []
  }
 ],
 "metadata": {
  "kernelspec": {
   "display_name": "Python 3",
   "language": "python",
   "name": "python3"
  },
  "language_info": {
   "codemirror_mode": {
    "name": "ipython",
    "version": 3
   },
   "file_extension": ".py",
   "mimetype": "text/x-python",
   "name": "python",
   "nbconvert_exporter": "python",
   "pygments_lexer": "ipython3",
   "version": "3.8.3"
  }
 },
 "nbformat": 4,
 "nbformat_minor": 4
}
