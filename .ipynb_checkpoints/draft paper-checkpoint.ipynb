{
 "cells": [
  {
   "cell_type": "code",
   "execution_count": 85,
   "metadata": {},
   "outputs": [],
   "source": [
    "from sentence_transformers import SentenceTransformer\n",
    "import json\n",
    "import numpy as np\n",
    "import matplotlib.pyplot as plt"
   ]
  },
  {
   "cell_type": "code",
   "execution_count": 13,
   "metadata": {},
   "outputs": [],
   "source": [
    "model = SentenceTransformer('distilbert-base-nli-mean-tokens')"
   ]
  },
  {
   "cell_type": "code",
   "execution_count": 34,
   "metadata": {},
   "outputs": [
    {
     "data": {
      "text/plain": [
       "['Computer Architecture',\n",
       " 'Compilers',\n",
       " 'Parallel Computing',\n",
       " 'Artificial Intelligence',\n",
       " 'Machine Learning',\n",
       " 'Bioinformatics',\n",
       " 'Computational Biology',\n",
       " 'Databases',\n",
       " 'Data Mining',\n",
       " 'Information Retrieval',\n",
       " 'Interactive Computing',\n",
       " 'Programming Languages',\n",
       " 'Formal Methods',\n",
       " 'Software Engineering',\n",
       " 'Scientific Computing',\n",
       " 'Computer Security and Privacy']"
      ]
     },
     "execution_count": 34,
     "metadata": {},
     "output_type": "execute_result"
    }
   ],
   "source": [
    "kw_raw_text = \"\"\"\n",
    "Computer Architecture\n",
    "Compilers\n",
    "Parallel Computing\n",
    "Artificial Intelligence\n",
    "Machine Learning\n",
    "Bioinformatics\n",
    "Computational Biology\n",
    "Databases\n",
    "Data Mining\n",
    "Information Retrieval\n",
    "Interactive Computing\n",
    "Programming Languages\n",
    "Formal Methods\n",
    "Software Engineering\n",
    "Scientific Computing\n",
    "Computer Security and Privacy\n",
    "\"\"\"\n",
    "\n",
    "kw_list_2 = kw_raw_text.split('\\n')[1:-1]\n",
    "kw_list_2\n"
   ]
  },
  {
   "cell_type": "code",
   "execution_count": 79,
   "metadata": {},
   "outputs": [],
   "source": [
    "def generic(word):\n",
    "    unprocessed_basis = np.array(json.load(open(\"./resources/basis.json\", 'r')))\n",
    "    basis_names = np.array(json.load(open(\"./resources/basis_words.json\", 'r')))\n",
    "    word_emb = model.encode(word).reshape(1,-1)\n",
    "    diff = unprocessed_basis - word_emb\n",
    "    diff_norm = np.linalg.norm(diff, axis=1)\n",
    "    return diff_norm, basis_names[np.where(diff_norm==np.min(diff_norm))], np.where(diff_norm==np.min(diff_norm))"
   ]
  },
  {
   "cell_type": "code",
   "execution_count": 38,
   "metadata": {},
   "outputs": [
    {
     "data": {
      "text/plain": [
       "(16, 768)"
      ]
     },
     "execution_count": 38,
     "metadata": {},
     "output_type": "execute_result"
    }
   ],
   "source": [
    "unprocessed_basis = np.array(json.load(open(\"./resources/basis.json\", 'r')))\n",
    "unprocessed_basis.shape"
   ]
  },
  {
   "cell_type": "code",
   "execution_count": 40,
   "metadata": {},
   "outputs": [],
   "source": [
    "emb = model.encode('model').reshape(1,-1)"
   ]
  },
  {
   "cell_type": "code",
   "execution_count": 41,
   "metadata": {},
   "outputs": [],
   "source": [
    "diff = unprocessed_basis - emb "
   ]
  },
  {
   "cell_type": "code",
   "execution_count": 80,
   "metadata": {},
   "outputs": [
    {
     "data": {
      "text/plain": [
       "(array([18.26458624, 16.03576635, 16.38970882, 17.53208486, 17.29441373,\n",
       "        17.46417488, 19.06462294, 16.67932195, 16.75742549, 14.23533463,\n",
       "        17.42182245, 17.43454541, 14.99092079, 17.49480261, 18.62954447,\n",
       "        18.76731493]),\n",
       " array(['Information Retrieval'], dtype='<U29'),\n",
       " (array([9]),))"
      ]
     },
     "execution_count": 80,
     "metadata": {},
     "output_type": "execute_result"
    }
   ],
   "source": [
    "generic('model')"
   ]
  },
  {
   "cell_type": "code",
   "execution_count": 81,
   "metadata": {},
   "outputs": [
    {
     "data": {
      "text/plain": [
       "(array([15.88872652, 12.30890496, 13.49591569, 15.83708691, 15.17506368,\n",
       "        15.4070266 , 17.49611577, 11.42548734, 12.29118208,  9.54466127,\n",
       "        14.62141031, 14.93320436, 13.64727692, 16.17211453, 16.49608081,\n",
       "        16.98916648]),\n",
       " array(['Information Retrieval'], dtype='<U29'),\n",
       " (array([9]),))"
      ]
     },
     "execution_count": 81,
     "metadata": {},
     "output_type": "execute_result"
    }
   ],
   "source": [
    "generic('data')"
   ]
  },
  {
   "cell_type": "code",
   "execution_count": 82,
   "metadata": {},
   "outputs": [
    {
     "data": {
      "text/plain": [
       "(array([17.89920619, 12.89414286, 14.87799674, 15.83184331, 14.54002921,\n",
       "        17.10822041, 18.21507146, 14.93246433, 15.25314317, 11.46137059,\n",
       "        15.81752925, 15.07339653, 13.4901734 , 16.53046505, 17.9571754 ,\n",
       "        19.10682845]),\n",
       " array(['Information Retrieval'], dtype='<U29'),\n",
       " (array([9]),))"
      ]
     },
     "execution_count": 82,
     "metadata": {},
     "output_type": "execute_result"
    }
   ],
   "source": [
    "generic('method')"
   ]
  },
  {
   "cell_type": "code",
   "execution_count": 84,
   "metadata": {},
   "outputs": [
    {
     "data": {
      "text/plain": [
       "(array([10.06018229, 12.60897638, 13.54819769, 13.60923081, 11.10392112,\n",
       "        13.57961818, 13.12814394, 15.45769607, 12.47867511, 15.19535397,\n",
       "        12.86777694, 11.23109828, 16.68965418,  0.        , 13.42185068,\n",
       "        15.3756764 ]),\n",
       " array(['Software Engineering'], dtype='<U29'),\n",
       " (array([13]),))"
      ]
     },
     "execution_count": 84,
     "metadata": {},
     "output_type": "execute_result"
    }
   ],
   "source": [
    "generic('Software Engineering')"
   ]
  },
  {
   "cell_type": "code",
   "execution_count": null,
   "metadata": {},
   "outputs": [],
   "source": []
  }
 ],
 "metadata": {
  "kernelspec": {
   "display_name": "Python 3",
   "language": "python",
   "name": "python3"
  },
  "language_info": {
   "codemirror_mode": {
    "name": "ipython",
    "version": 3
   },
   "file_extension": ".py",
   "mimetype": "text/x-python",
   "name": "python",
   "nbconvert_exporter": "python",
   "pygments_lexer": "ipython3",
   "version": "3.8.3"
  }
 },
 "nbformat": 4,
 "nbformat_minor": 4
}
