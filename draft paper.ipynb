{
 "cells": [
  {
   "cell_type": "code",
   "execution_count": 1,
   "metadata": {},
   "outputs": [],
   "source": [
    "kw_score_dict = {\n",
    "\"Artificial Intelligence\":0.20809248554913296,\n",
    "\"Computation and Language\":0.05394990366088632,\n",
    "\"Computational Complexity\":-0.1233140655105973,\n",
    "\"Computational Engineering, Finance, and Science\":0.2466281310211946,\n",
    "\"Computational Geometry\":-0.30828516377649323,\n",
    "\"Computer Science and Game Theory\":0.18497109826589594,\n",
    "\"Computer Vision and Pattern Recognition\":0.2774566473988439,\n",
    "\"Computers and Society\":-0.1233140655105973,\n",
    "\"Cryptography and Security\":-0.43159922928709055,\n",
    "\"Data Structures and Algorithms\":0.15414258188824662,\n",
    "\"Databases\":-0.1233140655105973,\n",
    "\"Digital Libraries\":0.3699421965317919,\n",
    "\"Discrete Mathematics\":0.13872832369942195,\n",
    "\"Distributed, Parallel, and Cluster Computing\":0.09248554913294797,\n",
    "\"Emerging Technologies\":-0.3699421965317919,\n",
    "\"Formal Languages and Automata Theory\":0,\n",
    "\"General Literature\":0.1233140655105973,\n",
    "\"Graphics\":0.2466281310211946,\n",
    "\"Hardware Architecture\":0.06165703275529865,\n",
    "\"Human-Computer Interaction\":0.5549132947976878,\n",
    "\"Information Retrieval\":0.8015414258188824,\n",
    "\"Information Theory\":0.1252408477842004,\n",
    "\"Logic in Computer Science\":0.05394990366088632,\n",
    "\"Machine Learning\":-0.18497109826589594,\n",
    "\"Mathematical Software\":0.06165703275529865,\n",
    "\"Multiagent Systems\":-0.3699421965317919,\n",
    "\"Multimedia\":0.30828516377649323,\n",
    "\"Networking and Internet Architecture\":0.2774566473988439,\n",
    "\"Neural and Evolutionary Computing\":0.1233140655105973,\n",
    "\"Numerical Analysis\":-0.13102119460500963,\n",
    "\"Operating Systems\":-0.4932562620423892,\n",
    "\"Other Computer Science\":-0.4624277456647399,\n",
    "\"Performance\":-0.1233140655105973,\n",
    "\"Programming Languages\":0.2466281310211946,\n",
    "\"Robotics\":-0.06165703275529865,\n",
    "\"Social and Information Networks\":-0.09248554913294797,\n",
    "\"Software Engineering\":0.18497109826589594,\n",
    "\"Sound\":0.5857418111753372,\n",
    "\"Symbolic Computation\":-0.4932562620423892,\n",
    "\"Systems and Control\":0.1811175337186898\n",
    "\n",
    "\n",
    "}"
   ]
  },
  {
   "cell_type": "code",
   "execution_count": 2,
   "metadata": {},
   "outputs": [
    {
     "data": {
      "text/plain": [
       "40"
      ]
     },
     "execution_count": 2,
     "metadata": {},
     "output_type": "execute_result"
    }
   ],
   "source": [
    "len(kw_score_dict)"
   ]
  },
  {
   "cell_type": "code",
   "execution_count": null,
   "metadata": {},
   "outputs": [],
   "source": []
  }
 ],
 "metadata": {
  "kernelspec": {
   "display_name": "Python 3",
   "language": "python",
   "name": "python3"
  },
  "language_info": {
   "codemirror_mode": {
    "name": "ipython",
    "version": 3
   },
   "file_extension": ".py",
   "mimetype": "text/x-python",
   "name": "python",
   "nbconvert_exporter": "python",
   "pygments_lexer": "ipython3",
   "version": "3.8.3"
  }
 },
 "nbformat": 4,
 "nbformat_minor": 4
}
